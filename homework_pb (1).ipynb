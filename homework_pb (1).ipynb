{
 "cells": [
  {
   "cell_type": "code",
   "execution_count": 13,
   "metadata": {},
   "outputs": [
    {
     "name": "stdout",
     "output_type": "stream",
     "text": [
      "Фразы равной длины\n"
     ]
    }
   ],
   "source": [
    "# задание 1\n",
    "phrase_1 = '640Кб должно хватить для любых задач. Билл Гейтс (по легенде)'\n",
    "phrase_2 = '640Кб должно хватить для любых задач. Билл Гейтс (по легенде)'\n",
    "\n",
    "\n",
    "if len(phrase_1) > len(phrase_2):\n",
    "    print('Фраза 1 длиннее фразы 2')\n",
    "elif len(phrase_1) < len(phrase_2):\n",
    "    print('Фраза 2 длиннее фразы 1')\n",
    "elif len(phrase_1) == len(phrase_2):\n",
    "    print('Фразы равной длины')"
   ]
  },
  {
   "cell_type": "code",
   "execution_count": 2,
   "metadata": {},
   "outputs": [
    {
     "name": "stdout",
     "output_type": "stream",
     "text": [
      "обычный год\n"
     ]
    }
   ],
   "source": [
    "# задание 2\n",
    "year = 1900\n",
    "if (year % 4 == 0 and year % 100 != 0) or (year % 400 == 0):\n",
    "    print('високосный год')\n",
    "else:\n",
    "    print('обычный год')"
   ]
  },
  {
   "cell_type": "code",
   "execution_count": 59,
   "metadata": {},
   "outputs": [
    {
     "name": "stdout",
     "output_type": "stream",
     "text": [
      "Скорпион\n",
      "Конец программы\n"
     ]
    }
   ],
   "source": [
    "# задание 3\n",
    "day = 28\n",
    "month = ('Октябрь')\n",
    "\n",
    "if month == ('Январь') and 21 <= day <= 31 or month == ('Февраль') and 1 <= day <= 19:\n",
    "    print('Водолей')\n",
    "elif month == ('Февраль') and 20 <= day <= 29 or month == ('Март') and 1 <= day <= 20:\n",
    "    print('Рыбы')\n",
    "elif month == ('Март') and 21 <= day <= 31 or month == ('Апрель') and 1 <= day <= 20:\n",
    "    print('Овен')\n",
    "elif month == ('Апрель') and 21 <= day <= 30 or month == ('Май') and 1 <= day <= 20:\n",
    "    print('Телец')\n",
    "elif month == ('Май') and 21 <= day <= 31 or month == ('Июнь') and 1 <= day <= 21:\n",
    "    print('Близнецы')\n",
    "elif month == ('Июнь') and 22 <= day <= 30 or month == ('Июль') and 1 <= day <= 22:\n",
    "    print('Рак')\n",
    "elif month == ('Июль') and 23 <= day <= 31 or month == ('Август') and 1 <= day <= 23:\n",
    "    print('Лев')\n",
    "elif month == ('Август') and 24 <= day <= 31 or month == ('Сентябрь') and 1 <= day <= 22:\n",
    "    print('Дева')\n",
    "elif month == ('Сентябрь') and 23 <= day <= 30 or month == ('Октябрь') and 1 <= day <= 23:\n",
    "    print('Весы')\n",
    "elif month == ('Октябрь') and 24 <= day <= 31 or month == ('Ноябрь') and 1 <= day <= 22:\n",
    "    print('Скорпион')\n",
    "elif month == ('Ноябрь') and 23 <= day <= 30 or month == ('Декабрь') and 1 <= day <= 21:\n",
    "    print('Стрелец')\n",
    "elif month == ('Декабрь') and 22 <= day <= 31 or month == ('Январь') and 1 <= day <= 20:\n",
    "    print('Козерог')\n",
    "else:\n",
    "    print('Введите корректное значение')\n",
    "print('Конец программы')"
   ]
  },
  {
   "cell_type": "code",
   "execution_count": 10,
   "metadata": {},
   "outputs": [
    {
     "name": "stdout",
     "output_type": "stream",
     "text": [
      "Упаковка для лыж\n",
      "Конец программы\n"
     ]
    }
   ],
   "source": [
    "# задание 4\n",
    "\n",
    "width = 45\n",
    "length = 205\n",
    "height = 45\n",
    "\n",
    "if width < 15 and length < 15 and height < 15:\n",
    "    print('Коробка №1')\n",
    "elif length > 200:\n",
    "    print('Упаковка для лыж')\n",
    "elif 15 < width < 50 or 15 < length < 50 or 15 < height < 50:\n",
    "    print('Коробка №2')\n",
    "else:\n",
    "    print('Стандартная коробка №3')\n",
    "print('Конец программы')"
   ]
  },
  {
   "cell_type": "code",
   "execution_count": null,
   "metadata": {},
   "outputs": [],
   "source": []
  }
 ],
 "metadata": {
  "kernelspec": {
   "display_name": "Python 3",
   "language": "python",
   "name": "python3"
  },
  "language_info": {
   "codemirror_mode": {
    "name": "ipython",
    "version": 3
   },
   "file_extension": ".py",
   "mimetype": "text/x-python",
   "name": "python",
   "nbconvert_exporter": "python",
   "pygments_lexer": "ipython3",
   "version": "3.8.3"
  }
 },
 "nbformat": 4,
 "nbformat_minor": 4
}
