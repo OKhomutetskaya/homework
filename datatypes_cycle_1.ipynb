{
 "cells": [
  {
   "cell_type": "code",
   "execution_count": null,
   "metadata": {},
   "outputs": [],
   "source": [
    "#задание 1\n",
    "word='i'\n",
    "\n",
    "if len(word) <= 2:\n",
    "    print('Введите более длинное слово')\n",
    "elif len(word) % 2 == 0:\n",
    "    print(word[int(len(word) / 2) - 1:int(len(word) / 2) + 1])\n",
    "elif len(word) % 2 != 0:\n",
    "    print(word[int(len(word) / 2)])    \n",
    " "
   ]
  },
  {
   "cell_type": "code",
   "execution_count": null,
   "metadata": {},
   "outputs": [],
   "source": [
    "# задача 2\n",
    "\n",
    "x = int(input('Введите число '))\n",
    "sum = 0\n",
    "\n",
    "while x != 0:\n",
    "    sum += x\n",
    "    x = int(input())\n",
    "print('Результат ', sum)"
   ]
  },
  {
   "cell_type": "code",
   "execution_count": null,
   "metadata": {},
   "outputs": [],
   "source": [
    "#задание 3\n",
    "boys = ['Peter', 'Alex', 'John', 'Arthur', 'Richard', 'James']\n",
    "girls = ['Kate', 'Liza', 'Kira', 'Emma', 'Trisha', 'Mariya']\n",
    "boys_and_girls = zip(sorted(boys), sorted(girls))\n",
    "if len(boys) == len(girls): \n",
    "    print('Идеальные пары: ')\n",
    "    for boys, girls in  boys_and_girls:   \n",
    "        print(f'{(boys)} и {(girls)}')\n",
    "elif len(boys) != len(girls):\n",
    "        print('Внимание, кто-то может остаться без пары!')"
   ]
  },
  {
   "cell_type": "code",
   "execution_count": null,
   "metadata": {},
   "outputs": [],
   "source": [
    "#задача 4\n",
    "countries_temperature = [\n",
    "    ['Thailand', [75.2, 77, 78.8, 73.4, 68, 75.2, 77]],\n",
    "    ['Germany', [57.2, 55.4, 59, 59, 53.6]],\n",
    "    ['Russia', [35.6, 37.4, 39.2, 41, 42.8, 39.2, 35.6]],\n",
    "    ['Poland', [50, 50, 53.6, 57.2, 55.4, 55.4]]\n",
    "]\n",
    "\n",
    "print('Средняя температура в странах: ', '\\n')\n",
    "for c in countries_temperature:\n",
    "    cels = (sum(c[1])/len(c[1])-32)/1.8\n",
    "    cels = round(cels,1)\n",
    "    print(c[0], '-', cels , 'C')"
   ]
  },
  {
   "cell_type": "code",
   "execution_count": null,
   "metadata": {},
   "outputs": [],
   "source": [
    "#задача 6\n",
    "ls = [int(i) for i in input('Введите числа: ').split()]\n",
    "for i in set(ls):\n",
    "    if ls.count(i) > 1:\n",
    "        print(i, end=' ')"
   ]
  }
 ],
 "metadata": {
  "kernelspec": {
   "display_name": "Python 3",
   "language": "python",
   "name": "python3"
  },
  "language_info": {
   "codemirror_mode": {
    "name": "ipython",
    "version": 3
   },
   "file_extension": ".py",
   "mimetype": "text/x-python",
   "name": "python",
   "nbconvert_exporter": "python",
   "pygments_lexer": "ipython3",
   "version": "3.8.3"
  }
 },
 "nbformat": 4,
 "nbformat_minor": 4
}
