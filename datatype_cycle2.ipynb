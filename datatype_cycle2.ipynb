{
 "cells": [
  {
   "cell_type": "code",
   "execution_count": null,
   "metadata": {},
   "outputs": [],
   "source": [
    "#задание 1\n",
    "ids = {'user1': [213, 213, 213, 15, 213], \n",
    "       'user2': [54, 54, 119, 119, 119], \n",
    "       'user3': [213, 98, 98, 35]}\n",
    "\n",
    "unique_values = list()\n",
    "for val in ids.values():\n",
    "    if type(val) == list:\n",
    "        unique_values += val\n",
    "    else:\n",
    "        unique_values.append(val)\n",
    "            \n",
    "print(set(unique_values))"
   ]
  },
  {
   "cell_type": "code",
   "execution_count": null,
   "metadata": {},
   "outputs": [],
   "source": [
    "#задание 2 \n",
    "queries = [\n",
    "    'смотреть сериалы онлайн',\n",
    "    'новости спорта',\n",
    "    'афиша кино',\n",
    "    'курс доллара',\n",
    "    'сериалы этим летом',\n",
    "    'курс по питону',\n",
    "    'сериалы про спорт',\n",
    "   ]\n",
    "\n",
    "\n",
    "res = {}\n",
    "for request in queries:\n",
    "    length = len(request.split())\n",
    "    if length not in res:\n",
    "        res[length] = 1\n",
    "    else:\n",
    "        res[length] += 1\n",
    "for key, length in res.items():\n",
    "    perc = round(((int(length)*100) / len(queries)), 2)\n",
    "    print(f'Поисковых запросов, содержащих {key} слов(а): {perc}%')\n",
    "            "
   ]
  },
  {
   "cell_type": "code",
   "execution_count": null,
   "metadata": {},
   "outputs": [],
   "source": [
    "#задние 3\n",
    "results = {\n",
    "    'vk': {'revenue': 103, 'cost': 98},\n",
    "    'yandex': {'revenue': 179, 'cost': 153},\n",
    "    'facebook': {'revenue': 103, 'cost': 110},\n",
    "    'adwords': {'revenue': 35, 'cost': 34},\n",
    "    'twitter': {'revenue': 11, 'cost': 24},\n",
    "}\n",
    "for network in results.values():\n",
    "    network['ROI'] = round(((network['revenue'] / network['cost'] - 1) * 100), 2)\n",
    "    \n",
    "from pprint import pprint \n",
    "pprint(results)"
   ]
  },
  {
   "cell_type": "code",
   "execution_count": null,
   "metadata": {},
   "outputs": [],
   "source": [
    "#задание 4\n",
    "stats = {'facebook': 55, 'yandex': 115, 'vk': 120, 'google': 999, 'email': 42, 'ok': 98}\n",
    "\n",
    "m_vol = [(value, key) for key, value in stats.items()] \n",
    "print(max(m_vol)[1]) "
   ]
  },
  {
   "cell_type": "code",
   "execution_count": null,
   "metadata": {},
   "outputs": [],
   "source": [
    "#задание 5\n",
    "my_list = ['2018-01-01', 'yandex', 'cpc', 100]\n",
    "\n",
    "res = my_list[-1]\n",
    "\n",
    "for el in reversed(my_list[:-1]):\n",
    "    res = {el: res}\n",
    "    print(res)\n",
    "    "
   ]
  }
 ],
 "metadata": {
  "kernelspec": {
   "display_name": "Python 3",
   "language": "python",
   "name": "python3"
  },
  "language_info": {
   "codemirror_mode": {
    "name": "ipython",
    "version": 3
   },
   "file_extension": ".py",
   "mimetype": "text/x-python",
   "name": "python",
   "nbconvert_exporter": "python",
   "pygments_lexer": "ipython3",
   "version": "3.8.3"
  }
 },
 "nbformat": 4,
 "nbformat_minor": 4
}
